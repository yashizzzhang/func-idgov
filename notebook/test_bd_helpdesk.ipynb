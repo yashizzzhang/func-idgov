{
 "cells": [
  {
   "attachments": {},
   "cell_type": "markdown",
   "metadata": {},
   "source": [
    "##### Initialize"
   ]
  },
  {
   "cell_type": "code",
   "execution_count": 2,
   "metadata": {},
   "outputs": [],
   "source": [
    "import sys\n",
    "sys.path.append('../')\n",
    "\n",
    "from msal import ConfidentialClientApplication\n",
    "import pandas as pd\n",
    "import os\n",
    "from azure.keyvault.secrets import SecretClient\n",
    "from azure.identity import DefaultAzureCredential\n",
    "\n",
    "import logging\n",
    "\n",
    "def_credential = DefaultAzureCredential()  \n",
    "\n",
    "## connect to Azure Key Vault securely\n",
    "keyVaultName = os.environ[\"KEY_VAULT_NAME\"]\n",
    "KVUri = f\"https://{keyVaultName}.vault.azure.net\"\n",
    "kv_client = SecretClient(vault_url=KVUri, credential=def_credential)\n",
    "\n",
    "## Secret Keys for Azure App Registration\n",
    "tenant_id = kv_client.get_secret('azure-tenant-id').value\n",
    "client_id = kv_client.get_secret('idgov-app-client-id').value\n",
    "client_secret = kv_client.get_secret('idgov-app-client-secret').value\n",
    "\n",
    "## Secret Keys for Bolddesk (Nera Care)\n",
    "# bd_api_key = kv_client.get_secret ('bolddesk-nera-care-api-key').value\n",
    "# bd_base_url = kv_client.get_secret('bolddesk-nera-care-api-base-url').value\n",
    "## Secret Keys for Bolddesk (Nera IT)\n",
    "bd_api_key = kv_client.get_secret ('bolddesk-nera-it-api-key').value\n",
    "bd_base_url = kv_client.get_secret('bolddesk-nera-it-api-base-url').value"
   ]
  },
  {
   "cell_type": "code",
   "execution_count": 3,
   "metadata": {},
   "outputs": [],
   "source": [
    "from module.bolddesk import Bolddesk\n",
    "from module.warehouse import Warehouse\n",
    "\n",
    "## Initialize Bolddesk and Warehouse\n",
    "bd = Bolddesk(bd_base_url, bd_api_key)\n",
    "wh = Warehouse(\n",
    "        server=os.environ[\"DB_SERVER\"],\n",
    "        database=os.environ[\"DB_NAME\"],\n",
    "        credential=def_credential\n",
    ")"
   ]
  },
  {
   "cell_type": "markdown",
   "metadata": {},
   "source": [
    "#### Tickets"
   ]
  },
  {
   "cell_type": "code",
   "execution_count": 7,
   "metadata": {},
   "outputs": [],
   "source": [
    "df = bd.list_tickets()\n",
    "\n",
    "date_cols = ['cf_last_date_of_service', 'cf_last_date_of_work', 'cf_last_day_of_retention', 'resolutionDue', 'createdOn', 'closedOn', 'responseDue', 'lastRepliedOn', 'lastUpdatedOn', 'lastStatusChangedOn',]\n",
    "for col in date_cols:\n",
    "    df[col] = pd.to_datetime(df[col]).dt.tz_localize(None)\n",
    "\n",
    "table_name = 'bd_helpdesk_tickets'\n",
    "wh.erase(table_name)\n",
    "wh.append(table_name, df)"
   ]
  }
 ],
 "metadata": {
  "kernelspec": {
   "display_name": ".venv",
   "language": "python",
   "name": "python3"
  },
  "language_info": {
   "codemirror_mode": {
    "name": "ipython",
    "version": 3
   },
   "file_extension": ".py",
   "mimetype": "text/x-python",
   "name": "python",
   "nbconvert_exporter": "python",
   "pygments_lexer": "ipython3",
   "version": "3.10.10"
  },
  "orig_nbformat": 4
 },
 "nbformat": 4,
 "nbformat_minor": 2
}
