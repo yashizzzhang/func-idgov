{
 "cells": [
  {
   "cell_type": "code",
   "execution_count": 1,
   "metadata": {},
   "outputs": [],
   "source": [
    "from msal import ConfidentialClientApplication\n",
    "import pandas as pd\n",
    "import os\n",
    "from azure.keyvault.secrets import SecretClient\n",
    "from azure.identity import DefaultAzureCredential\n",
    "import logging\n",
    "import pandas as pd\n",
    "\n",
    "def_credential = DefaultAzureCredential()  \n",
    "\n",
    "## connect to Azure Key Vault securely\n",
    "keyVaultName = os.environ[\"KEY_VAULT_NAME\"]\n",
    "KVUri = f\"https://{keyVaultName}.vault.azure.net\"\n",
    "kv_client = SecretClient(vault_url=KVUri, credential=def_credential)\n",
    "\n",
    "## Secret Keys for Azure App Registration\n",
    "tenant_id = kv_client.get_secret('azure-tenant-id').value\n",
    "client_id = kv_client.get_secret('idgov-app-client-id').value\n",
    "client_secret = kv_client.get_secret('idgov-app-client-secret').value\n",
    "\n",
    "import sys\n",
    "os.chdir('../')"
   ]
  },
  {
   "cell_type": "code",
   "execution_count": 2,
   "metadata": {},
   "outputs": [],
   "source": [
    "from module.azure_ad import AzureAD\n",
    "\n",
    "## Initialize AD and Bolddesk API Module\n",
    "ad = AzureAD(tenant_id, client_id, client_secret)\n",
    "\n",
    "from module.warehouse import Warehouse\n",
    "## initialize warehouse\n",
    "wh = Warehouse(\n",
    "    server=os.environ[\"DB_SERVER\"],\n",
    "    database=os.environ[\"DB_NAME\"],\n",
    "    credential=def_credential\n",
    ")"
   ]
  },
  {
   "cell_type": "code",
   "execution_count": null,
   "metadata": {},
   "outputs": [],
   "source": [
    "# ## run the jobs\n",
    "# from module.idgov     import save_to_warehouse, add_new_user_to_bd, deactivate_invalid_agent\n",
    "# save_to_warehouse(ad, def_credential)"
   ]
  },
  {
   "cell_type": "code",
   "execution_count": 3,
   "metadata": {},
   "outputs": [],
   "source": [
    "df = ad.list_one_drive_usage()\n",
    "# table_name = 'ad_onedrive_usage'\n",
    "# wh.refresh_table_rows(table_name, df, column_name='refresh_date', value=df.refresh_date[0])"
   ]
  },
  {
   "cell_type": "code",
   "execution_count": 8,
   "metadata": {},
   "outputs": [
    {
     "name": "stdout",
     "output_type": "stream",
     "text": [
      "<class 'pandas.core.frame.DataFrame'>\n",
      "RangeIndex: 141 entries, 0 to 140\n",
      "Data columns (total 55 columns):\n",
      " #   Column                                     Non-Null Count  Dtype \n",
      "---  ------                                     --------------  ----- \n",
      " 0   id                                         141 non-null    object\n",
      " 1   userId                                     141 non-null    object\n",
      " 2   deviceName                                 141 non-null    object\n",
      " 3   managedDeviceOwnerType                     141 non-null    object\n",
      " 4   enrolledDateTime                           141 non-null    object\n",
      " 5   lastSyncDateTime                           141 non-null    object\n",
      " 6   operatingSystem                            141 non-null    object\n",
      " 7   complianceState                            141 non-null    object\n",
      " 8   jailBroken                                 141 non-null    object\n",
      " 9   managementAgent                            141 non-null    object\n",
      " 10  osVersion                                  141 non-null    object\n",
      " 11  easActivated                               141 non-null    bool  \n",
      " 12  easDeviceId                                141 non-null    object\n",
      " 13  easActivationDateTime                      141 non-null    object\n",
      " 14  azureADRegistered                          139 non-null    object\n",
      " 15  deviceEnrollmentType                       141 non-null    object\n",
      " 16  activationLockBypassCode                   0 non-null      object\n",
      " 17  emailAddress                               141 non-null    object\n",
      " 18  azureADDeviceId                            141 non-null    object\n",
      " 19  deviceRegistrationState                    141 non-null    object\n",
      " 20  deviceCategoryDisplayName                  141 non-null    object\n",
      " 21  isSupervised                               141 non-null    bool  \n",
      " 22  exchangeLastSuccessfulSyncDateTime         141 non-null    object\n",
      " 23  exchangeAccessState                        141 non-null    object\n",
      " 24  exchangeAccessStateReason                  141 non-null    object\n",
      " 25  remoteAssistanceSessionUrl                 0 non-null      object\n",
      " 26  remoteAssistanceSessionErrorDetails        0 non-null      object\n",
      " 27  isEncrypted                                141 non-null    bool  \n",
      " 28  userPrincipalName                          141 non-null    object\n",
      " 29  model                                      141 non-null    object\n",
      " 30  manufacturer                               141 non-null    object\n",
      " 31  imei                                       141 non-null    object\n",
      " 32  complianceGracePeriodExpirationDateTime    141 non-null    object\n",
      " 33  serialNumber                               141 non-null    object\n",
      " 34  phoneNumber                                141 non-null    object\n",
      " 35  androidSecurityPatchLevel                  141 non-null    object\n",
      " 36  userDisplayName                            141 non-null    object\n",
      " 37  configurationManagerClientEnabledFeatures  0 non-null      object\n",
      " 38  wiFiMacAddress                             141 non-null    object\n",
      " 39  deviceHealthAttestationState               0 non-null      object\n",
      " 40  subscriberCarrier                          141 non-null    object\n",
      " 41  meid                                       141 non-null    object\n",
      " 42  totalStorageSpaceInBytes                   141 non-null    int64 \n",
      " 43  freeStorageSpaceInBytes                    141 non-null    int64 \n",
      " 44  managedDeviceName                          141 non-null    object\n",
      " 45  partnerReportedThreatState                 141 non-null    object\n",
      " 46  requireUserEnrollmentApproval              12 non-null     object\n",
      " 47  managementCertificateExpirationDate        141 non-null    object\n",
      " 48  iccid                                      0 non-null      object\n",
      " 49  udid                                       0 non-null      object\n",
      " 50  notes                                      0 non-null      object\n",
      " 51  ethernetMacAddress                         0 non-null      object\n",
      " 52  physicalMemoryInBytes                      141 non-null    int64 \n",
      " 53  enrollmentProfileName                      0 non-null      object\n",
      " 54  deviceActionResults                        141 non-null    object\n",
      "dtypes: bool(3), int64(3), object(49)\n",
      "memory usage: 57.8+ KB\n"
     ]
    }
   ],
   "source": [
    "df.info()"
   ]
  },
  {
   "cell_type": "code",
   "execution_count": 10,
   "metadata": {},
   "outputs": [],
   "source": [
    "df = ad.list_managed_devices()\n",
    "table_name = 'ad_managed_devices'\n",
    "wh.erase(table_name)\n",
    "wh.append(table_name, df)\n"
   ]
  }
 ],
 "metadata": {
  "kernelspec": {
   "display_name": ".venv",
   "language": "python",
   "name": "python3"
  },
  "language_info": {
   "codemirror_mode": {
    "name": "ipython",
    "version": 3
   },
   "file_extension": ".py",
   "mimetype": "text/x-python",
   "name": "python",
   "nbconvert_exporter": "python",
   "pygments_lexer": "ipython3",
   "version": "3.11.6"
  }
 },
 "nbformat": 4,
 "nbformat_minor": 2
}
