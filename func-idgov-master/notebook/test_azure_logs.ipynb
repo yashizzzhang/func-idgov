{
 "cells": [
  {
   "attachments": {},
   "cell_type": "markdown",
   "metadata": {},
   "source": [
    "#### Initialize"
   ]
  },
  {
   "cell_type": "code",
   "execution_count": 1,
   "metadata": {},
   "outputs": [],
   "source": [
    "import logging, os, struct, urllib\n",
    "from sqlalchemy import create_engine, MetaData, Table\n",
    "from azure.monitor.query import LogsQueryClient\n",
    "from azure.identity import DefaultAzureCredential\n",
    "from datetime import timedelta, datetime, timezone\n",
    "from module.logsanalytics import LogsAnalytics\n",
    "from module.warehouse import Warehouse\n",
    "import pandas as pd\n",
    "def_credential = DefaultAzureCredential()\n",
    "\n",
    "logs_id = os.environ[\"LOGS_ANALYTICS_ID\"]\n",
    "lg = LogsAnalytics(logs_id=logs_id, credential=def_credential)\n",
    "\n",
    "warehouse = Warehouse(\n",
    "    server=os.environ[\"DB_SERVER\"],\n",
    "    database=os.environ[\"DB_NAME\"],\n",
    "    credential=def_credential\n",
    ")"
   ]
  },
  {
   "attachments": {},
   "cell_type": "markdown",
   "metadata": {},
   "source": [
    "#### Run Jobs"
   ]
  },
  {
   "cell_type": "code",
   "execution_count": 5,
   "metadata": {},
   "outputs": [
    {
     "name": "stderr",
     "output_type": "stream",
     "text": [
      "WARNING:azure.monitor.query._generated._serialization:Datetime with no tzinfo will be considered UTC.\n",
      "WARNING:azure.monitor.query._generated._serialization:Datetime with no tzinfo will be considered UTC.\n"
     ]
    }
   ],
   "source": [
    "# ## Define the save jobs\n",
    "# save_list = [\n",
    "#     ## log_message, table_name, function_name\n",
    "#     ('TIMER_UPDATE_LOGS: refresh ad_audits logs',           'ad_audits',         'list_audits'),\n",
    "#     ('TIMER_UPDATE_LOGS: refresh ad_signins logs',          'ad_signins',        'list_signins')\n",
    "# ]\n",
    "\n",
    "# ## run all save jobs\n",
    "# for job in save_list:\n",
    "\n",
    "\n",
    "#     ## timeframe from last update till now\n",
    "#     logging_message = job[0]\n",
    "#     table_name = job[1]\n",
    "#     list_func = getattr(lg, job[2])\n",
    "\n",
    "#     logging.info(logging_message)\n",
    "\n",
    "\n",
    "#     ## retrieve new rows\n",
    "#     list_from = warehouse.get_max(table_name,'TimeGenerated') + timedelta(milliseconds=1)\n",
    "#     list_to   = datetime.now(tz=timezone.utc)\n",
    "#     df = list_func(time_span=(list_from, list_to))\n",
    "\n",
    "#     ## save to warehouse\n",
    "#     warehouse.append(table_name, df)\n"
   ]
  },
  {
   "attachments": {},
   "cell_type": "markdown",
   "metadata": {},
   "source": [
    "#### Test - Audits"
   ]
  },
  {
   "cell_type": "code",
   "execution_count": 3,
   "metadata": {},
   "outputs": [
    {
     "data": {
      "text/plain": [
       "Index(['TimeGenerated', 'Category', 'AADOperationType', 'ActivityDisplayName',\n",
       "       'Result', 'initiatedby_userid', 'initiatedby_upn', 'initiatedby_name',\n",
       "       'initiatedby_ip', 'target_id', 'target_displayName', 'target_upn',\n",
       "       'target_type', 'additional_detail', 'modified_properties'],\n",
       "      dtype='object')"
      ]
     },
     "execution_count": 3,
     "metadata": {},
     "output_type": "execute_result"
    }
   ],
   "source": [
    "ts=timedelta(days=7)\n",
    "df = lg.list_audits_alerts(time_span=ts)\n",
    "df.columns"
   ]
  },
  {
   "attachments": {},
   "cell_type": "markdown",
   "metadata": {},
   "source": [
    "#### Test - Signins"
   ]
  },
  {
   "cell_type": "code",
   "execution_count": 26,
   "metadata": {},
   "outputs": [
    {
     "data": {
      "text/plain": [
       "Index(['OperationName', 'Category', 'ResultType', 'UserDisplayName',\n",
       "       'UserPrincipalName', 'UserType', 'Country', 'City', 'IPAddress',\n",
       "       'AppDisplayName', 'ClientAppUsed', 'ResourceDisplayName', 'DeviceId',\n",
       "       'DeviceDisplayName', 'DeviceOS', 'DeviceTrustType', 'DeviceBrowser',\n",
       "       'StatusErrorCode', 'StatusAdditionalDetails'],\n",
       "      dtype='object')"
      ]
     },
     "execution_count": 26,
     "metadata": {},
     "output_type": "execute_result"
    }
   ],
   "source": [
    "query = r'''\n",
    "SigninLogs\n",
    "| extend FailureOrSuccess = iff(ResultType in (\"0\", \"50125\", \"50140\"), \"Success\", \"Failure\")\n",
    "| extend Country=tostring(LocationDetails.countryOrRegion)\n",
    "| extend City=tostring(LocationDetails.city)\n",
    "| extend DeviceId=tostring(DeviceDetail.deviceId)\n",
    "| extend DeviceDisplayName=tostring(DeviceDetail.displayName)\n",
    "| extend DeviceOS=tostring(DeviceDetail.operatingSystem)\n",
    "| extend DeviceTrustType=tostring(DeviceDetail.trustType)\n",
    "| extend DeviceBrowser=tostring(DeviceDetail.browser)\n",
    "| extend StatusErrorCode=tostring(Status.errorCode)\n",
    "| extend StatusAdditionalDetails=tostring(Status.additionalDetails)\n",
    "| project OperationName, Category, ResultType, UserDisplayName, UserPrincipalName, UserType, Country, City, IPAddress, AppDisplayName, ClientAppUsed, ResourceDisplayName, DeviceId, DeviceDisplayName, DeviceOS, DeviceTrustType, DeviceBrowser, StatusErrorCode, StatusAdditionalDetails\n",
    "'''\n",
    "ts=timedelta(days=7)\n",
    "df = lg.list(query, time_span=ts)\n",
    "df.columns"
   ]
  },
  {
   "cell_type": "code",
   "execution_count": 40,
   "metadata": {},
   "outputs": [],
   "source": [
    "good = df.StatusErrorCode == '0'\n",
    "good_df = df[good]\n",
    "gb = good_df.groupby(['Country','IPAddress'])\n",
    "# df2= gb.count()\n",
    "df2=gb.agg({\n",
    "    'UserPrincipalName': 'nunique',\n",
    "    'DeviceId': 'nunique',\n",
    "})"
   ]
  },
  {
   "cell_type": "code",
   "execution_count": 43,
   "metadata": {},
   "outputs": [
    {
     "data": {
      "text/plain": [
       "Country\n",
       "AE     2\n",
       "AR     1\n",
       "CN     3\n",
       "HK     1\n",
       "ID    43\n",
       "IN     1\n",
       "JP     1\n",
       "KH     1\n",
       "MA     9\n",
       "MM     1\n",
       "MY    78\n",
       "NG     1\n",
       "NO     7\n",
       "PH    37\n",
       "PK    27\n",
       "SG    98\n",
       "TH    15\n",
       "TW     1\n",
       "US     1\n",
       "Name: DeviceId, dtype: int64"
      ]
     },
     "execution_count": 43,
     "metadata": {},
     "output_type": "execute_result"
    }
   ],
   "source": [
    "gb = good_df.groupby(['Country'])\n",
    "gb['DeviceId'].nunique()"
   ]
  },
  {
   "cell_type": "code",
   "execution_count": 45,
   "metadata": {},
   "outputs": [],
   "source": [
    "audits_df = lg.list_audits()"
   ]
  }
 ],
 "metadata": {
  "kernelspec": {
   "display_name": ".venv",
   "language": "python",
   "name": "python3"
  },
  "language_info": {
   "codemirror_mode": {
    "name": "ipython",
    "version": 3
   },
   "file_extension": ".py",
   "mimetype": "text/x-python",
   "name": "python",
   "nbconvert_exporter": "python",
   "pygments_lexer": "ipython3",
   "version": "3.10.10"
  },
  "orig_nbformat": 4
 },
 "nbformat": 4,
 "nbformat_minor": 2
}
