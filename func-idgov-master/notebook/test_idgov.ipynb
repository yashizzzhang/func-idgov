{
 "cells": [
  {
   "attachments": {},
   "cell_type": "markdown",
   "metadata": {},
   "source": [
    "##### Initialize"
   ]
  },
  {
   "cell_type": "code",
   "execution_count": 1,
   "metadata": {},
   "outputs": [],
   "source": [
    "from msal import ConfidentialClientApplication\n",
    "import pandas as pd\n",
    "import os\n",
    "from azure.keyvault.secrets import SecretClient\n",
    "from azure.identity import DefaultAzureCredential\n",
    "import logging\n",
    "\n",
    "def_credential = DefaultAzureCredential()  \n",
    "\n",
    "## connect to Azure Key Vault securely\n",
    "keyVaultName = os.environ[\"KEY_VAULT_NAME\"]\n",
    "KVUri = f\"https://{keyVaultName}.vault.azure.net\"\n",
    "kv_client = SecretClient(vault_url=KVUri, credential=def_credential)\n",
    "\n",
    "## Secret Keys for Azure App Registration\n",
    "tenant_id = kv_client.get_secret('azure-tenant-id').value\n",
    "client_id = kv_client.get_secret('idgov-app-client-id').value\n",
    "client_secret = kv_client.get_secret('idgov-app-client-secret').value\n",
    "\n",
    "## Secret Keys for Bolddesk\n",
    "bd_api_key = kv_client.get_secret('bolddesk-nera-it-api-key').value\n",
    "bd_base_url = kv_client.get_secret('bolddesk-nera-it-api-base-url').value"
   ]
  },
  {
   "cell_type": "code",
   "execution_count": 2,
   "metadata": {},
   "outputs": [],
   "source": [
    "from module.azure_ad import AzureAD\n",
    "from module.bolddesk import Bolddesk\n",
    "\n",
    "## Initialize AD and Bolddesk API Module\n",
    "ad = AzureAD(tenant_id, client_id, client_secret)\n",
    "bd = Bolddesk(bd_base_url, bd_api_key)"
   ]
  },
  {
   "attachments": {},
   "cell_type": "markdown",
   "metadata": {},
   "source": [
    "##### add_new_user_to_bd"
   ]
  },
  {
   "cell_type": "code",
   "execution_count": null,
   "metadata": {},
   "outputs": [],
   "source": [
    "logging.info('started: add_new_user_to_bd()')\n",
    "## Add New AD User to Bolddesk Contact\n",
    "## New AD User Defiend as\n",
    "## - userPurpose is 'user'\n",
    "## - Member\n",
    "## - accountEnabled\n",
    "## - Not exist in Bolddesk\n",
    "\n",
    "## AD users to be added to Bolddesk\n",
    "all_employees_df = ad.list_users().query('userPurpose==\"user\" and userType==\"Member\" and accountEnabled==\"TRUE\"').set_index('userPrincipalName')\n",
    "employees_to_bd_index = ~all_employees_df.index.isin(bd.list_users().index) ## not in bolddesk\n",
    "employees_to_bd_df    = all_employees_df.loc[employees_to_bd_index]\n",
    "\n",
    "## Add new contact in Bolddesk as verified\n",
    "for emailId, new_user in employees_to_bd_df.iterrows():\n",
    "    ## map AD fields to Bolddesk fields\n",
    "    new_contact = {\n",
    "        'emailId'              : emailId,\n",
    "        'contactName'          : new_user.get('displayName'),\n",
    "        'contactDisplayName'   : new_user.get('displayName'),\n",
    "        'contactMobileNo'      : new_user.get('mobilePhone'),\n",
    "        'contactJobTitle'      : new_user.get('jobTitle'),\n",
    "        'cf_contactCountry'       : new_user.get('country'),\n",
    "        'cf_contactCity'          : new_user.get('city'),\n",
    "        'cf_contactManagerEmailId': new_user.get('manager_userPrincipalName'),\n",
    "        'isVerified'              : True  ## force verified, so that users don't get invitation email from Bolddesk\n",
    "    }\n",
    "    logging.info(f'Adding new contact: {emailId}, {new_contact}')\n",
    "    bd.add_contact(new_contact)"
   ]
  },
  {
   "attachments": {},
   "cell_type": "markdown",
   "metadata": {},
   "source": [
    "##### update_bd_contact_on_ad_changes"
   ]
  },
  {
   "cell_type": "code",
   "execution_count": null,
   "metadata": {},
   "outputs": [],
   "source": [
    "logging.info('started: update_bd_contact_on_ad_changes()')\n",
    "## Update Bolddesk Existing Contacts with Data From Azure AD Users\n",
    "\n",
    "## Define AD-Bolddesk fields map\n",
    "## note: contactMobileNo and contactJobTitle is not available in contacts_df, hence can't map here\n",
    "ad_bd_fields_map = {\n",
    "    'userPrincipalName': 'emailId',\n",
    "    'displayName'      : 'contactName',\n",
    "    'country'          : 'cf_contactCountry',\n",
    "    'mobilePhone'      : 'contactMobileNo',\n",
    "    'jobTitle'         : 'contactJobTitle',\n",
    "    'city'             : 'cf_contactCity',\n",
    "    'manager_userPrincipalName': 'cf_contactManagerEmailId'\n",
    "}\n",
    "\n",
    "## Normalize AD Users\n",
    "ad_users_df = ad.list_users().rename( columns=ad_bd_fields_map)\n",
    "ad_users_df = ad_users_df.loc[:, ad_bd_fields_map.values()].set_index('emailId').fillna('')\n",
    "\n",
    "## Normalize Contacts\n",
    "contacts_df = bd.list_contacts().set_index('emailId')\n",
    "\n",
    "## Select Existing Contacts that Exist in Azure AD\n",
    "common_contacts = contacts_df.index.isin(ad_users_df.index)\n",
    "\n",
    "## Loop Through Intersection To Check Sync\n",
    "for emailId, contact in contacts_df.loc[common_contacts].iterrows():\n",
    "    \n",
    "    user_dict    = ad_users_df.loc[emailId].to_dict()    \n",
    "    contact_dict = bd.filter_dict_by_keys(contact.to_dict(), user_dict.keys())\n",
    "    diff = bd.dict_diff(contact_dict, user_dict)\n",
    "    \n",
    "    ## difference detected\n",
    "    if diff:\n",
    "        \n",
    "        ## Construct the Update Record\n",
    "        change_dict = {}\n",
    "        for key, value in diff.items():\n",
    "            change_dict[key] = value[1]\n",
    "\n",
    "        ## Update the Contact\n",
    "        bd.update_contact(contact.userId, change_dict)            \n",
    "        # logging.info(f'Updating contact: {emailId}/{contact.userId}: {change_dict}, contact_dict: {contact_dict}, user_dict: {user_dict}')\n",
    "        logging.info(f'Updating contact: {emailId}/{contact.userId}: {change_dict}')"
   ]
  },
  {
   "attachments": {},
   "cell_type": "markdown",
   "metadata": {},
   "source": [
    "##### block_invalid_bd_contacts"
   ]
  },
  {
   "cell_type": "code",
   "execution_count": null,
   "metadata": {},
   "outputs": [],
   "source": [
    "logging.info('started: block_invalid_bd_contacts()')\n",
    "## Block Bolddesk Users\n",
    "\n",
    "## Find Out All Non Blcoked Contacts That Are Not Exist in Azure AD\n",
    "## Valid Contacts are defined as (all condition applied)\n",
    "## - exist in Azure AD \n",
    "## - Azure AD accountEnabled\n",
    "## - Azure AD Member\n",
    "## - Active Contact - not blocked or Deleted\n",
    "\n",
    "## Exception, mark as non spammer\n",
    "valid_non_nera_domains = ['central.sophos.com']\n",
    "\n",
    "ad_users_df = ad.list_users().query('userPurpose==\"user\" and userType==\"Member\" and accountEnabled==\"TRUE\"').set_index('userPrincipalName')\n",
    "contacts_df = bd.list_contacts().set_index('emailId')\n",
    "# invalid_contacts = ~contacts_df.index.isin(ad_users_df.index) & ~ (contacts_df.isBlocked | contacts_df.isDeleted) & ~contacts_df.index.str.contains('central.sophos.com')\n",
    "invalid_contacts = ~contacts_df.index.isin(ad_users_df.index) & ~ (contacts_df.isBlocked | contacts_df.isDeleted) & ~contacts_df.index.isin(valid_non_nera_domains)\n",
    "invalid_contacts_df = contacts_df.loc[invalid_contacts]\n",
    "\n",
    "## Invalid Nera Staff, block if the number is <5% of total AD users\n",
    "is_nera = invalid_contacts_df.index.str.contains('@nera.net')\n",
    "nera_invalid_df = invalid_contacts_df[is_nera]\n",
    "if sum(is_nera)/len(ad.users_df) < 0.05:\n",
    "    for emailId, contact in nera_invalid_df.iterrows():\n",
    "        print('Blocking Bolddesk Nera Contact Not in AD: ', emailId)\n",
    "        bd.block_contact(contact.userId, markTicketAsSpam=False)\n",
    "\n",
    "## Invalid Spammer (non Nera email)\n",
    "is_not_nera = ~is_nera\n",
    "spammer_invalid_df = invalid_contacts_df[is_not_nera]\n",
    "if sum(is_not_nera)/len(ad.users_df) < 0.05:\n",
    "    for emailId, contact in spammer_invalid_df.iterrows():\n",
    "        print('Blocking Bloddesk Spammer Contact: ', emailId)\n",
    "        bd.block_contact(contact.userId, markTicketAsSpam=True)    "
   ]
  },
  {
   "attachments": {},
   "cell_type": "markdown",
   "metadata": {},
   "source": [
    "##### save_to_warehouse"
   ]
  },
  {
   "cell_type": "code",
   "execution_count": 7,
   "metadata": {},
   "outputs": [],
   "source": [
    "from sqlalchemy import create_engine, MetaData, Table\n",
    "import urllib, struct\n",
    "from math import floor \n",
    "\n",
    "logging.info('started: save_to_warehouse()')\n",
    "token = def_credential.get_token(\"https://database.windows.net/.default\").token.encode(\"UTF-16-LE\")\n",
    "token_struct = struct.pack(f'<I{len(token)}s', len(token), token)\n",
    "\n",
    "## Establish Azure SQL Connection using pyodbc\n",
    "server=\"nera-sql.database.windows.net\"\n",
    "database=\"nera_db\"\n",
    "driver=\"{ODBC Driver 17 for SQL Server}\"\n",
    "connection_string = 'DRIVER='+driver+';SERVER='+server+';DATABASE='+database\n",
    "params = urllib.parse.quote(connection_string)\n",
    "SQL_COPT_SS_ACCESS_TOKEN = 1256\n",
    "db_engine = create_engine(\"mssql+pyodbc:///?odbc_connect={0}\".format(params), connect_args={'attrs_before': {SQL_COPT_SS_ACCESS_TOKEN:token_struct}})\n",
    "conn = db_engine.connect()\n",
    "metadata = MetaData()\n",
    "\n",
    "## Define the save jobs\n",
    "save_list = [\n",
    "    ## log_message, table_name, function_name\n",
    "    # ('save_to_warehouse(): saving ad_users',                  'ad_users',           'list_users'),\n",
    "    # ('save_to_warehouse(): saving saving ad_groups',          'ad_groups',          'list_groups'),\n",
    "    # ('save_to_warehouse(): saving saving ad_groups_members',  'ad_groups_members',  'list_groups_members'),\n",
    "    # ('save_to_warehouse(): saving saving ad_groups_owners',   'ad_groups_owners',   'list_groups_owners'),\n",
    "    # ('save_to_warehouse(): saving saving ad_devices_users',   'ad_devices_users',   'list_devices_users'),\n",
    "    ('save_to_warehouse(): saving authentications',           'ad_auth_details',    'list_auth_details'),\n",
    "]\n",
    "\n",
    "## run all save jobs\n",
    "for job in save_list:\n",
    "\n",
    "    logging.info(job[0])\n",
    "\n",
    "    ## delete all rows\n",
    "    my_table = Table(job[1], metadata, autoload_with=db_engine)\n",
    "    delete_stmt = my_table.delete()\n",
    "    conn.execute(delete_stmt)\n",
    "    conn.commit()\n",
    "    \n",
    "    ## get new data and save to SQL\n",
    "    list_func = getattr(ad, job[2])\n",
    "    df = list_func()\n",
    "    chunksize = floor(2100/df.shape[1]) -1\n",
    "    df.to_sql(job[1], con=db_engine, index=False, if_exists='append', method='multi', chunksize=chunksize)\n"
   ]
  },
  {
   "attachments": {},
   "cell_type": "markdown",
   "metadata": {},
   "source": [
    "##### Batch Job"
   ]
  },
  {
   "cell_type": "code",
   "execution_count": null,
   "metadata": {},
   "outputs": [],
   "source": [
    "## Batch Update Contacts timezoneId based on cf_contactCountry\n",
    "# bd = Bolddesk(base_url, api_key)\n",
    "# for emailId, contact in bd.contacts_df.iterrows():\n",
    "#     country = contact.cf_contactCountry\n",
    "#     city    = contact.cf_contactCity\n",
    "#     timezone_id = bd.get_timezone_id(country, city)\n",
    "#     bd.update_contact(contact.userId, {'timezoneId': timezone_id})"
   ]
  },
  {
   "cell_type": "code",
   "execution_count": null,
   "metadata": {},
   "outputs": [],
   "source": [
    "# ## Update Bolddesk Existing Contacts with Data From Azure AD Users\n",
    "\n",
    "# ## Define AD-Bolddesk fields map\n",
    "# ## note: contactMobileNo and contactJobTitle is not available in contacts_df, hence can't map here\n",
    "# bd_ad_fields_map = {\n",
    "#     'userPrincipalName': 'emailId',\n",
    "#     'displayName'      : 'contactName',\n",
    "#     'country'          : 'cf_contactCountry',\n",
    "#     'mobilePhone'      : 'contactMobileNo',\n",
    "#     'jobTitle'         : 'contactJobTitle',\n",
    "#     'city'             : 'cf_contactCity',\n",
    "#     'manager_userPrincipalName': 'cf_contactManagerEmailId'\n",
    "# }\n",
    "\n",
    "# ## Normalize AD Users\n",
    "# ad_users_df = ad.list_users().rename( columns=bd_ad_fields_map)\n",
    "# ad_users_df = ad_users_df.loc[:, bd_ad_fields_map.values()].set_index('emailId')\n",
    "\n",
    "# ## Normalize Contacts\n",
    "# contacts_df = bd.list_contacts().set_index('emailId')\n",
    "\n",
    "# ## Select Existing Contacts that Exist in Azure AD\n",
    "# common_contacts = contacts_df.index.isin(ad_users_df.index)\n",
    "\n",
    "# ## Loop Through Intersection To Check Sync\n",
    "# for emailId, contact in contacts_df.loc[common_contacts].iterrows():\n",
    "    \n",
    "#     user_dict    = ad_users_df.loc[emailId].to_dict()    \n",
    "#     contact_dict = bd.filter_dict_by_keys(contact.to_dict(), user_dict.keys())\n",
    "#     diff = bd.dict_diff(contact_dict, user_dict)\n",
    "    \n",
    "#     ## difference detected\n",
    "#     if diff:\n",
    "        \n",
    "#         ## Construct the Update Record\n",
    "#         change_dict = {}\n",
    "#         for key, value in diff.items():\n",
    "#             change_dict[key] = value[1]\n",
    "\n",
    "#         ## Update the Contact\n",
    "#         bd.update_contact(contact.userId, change_dict)            \n",
    "#         logging.info(f'Updating contact: {emailId}/{contact.userId}: {change_dict}')"
   ]
  },
  {
   "attachments": {},
   "cell_type": "markdown",
   "metadata": {},
   "source": [
    "##### Test"
   ]
  },
  {
   "cell_type": "code",
   "execution_count": 3,
   "metadata": {},
   "outputs": [],
   "source": [
    "au = ad.list_auth_details()"
   ]
  },
  {
   "cell_type": "code",
   "execution_count": 4,
   "metadata": {},
   "outputs": [
    {
     "data": {
      "text/plain": [
       "id                                                            87c0f890-5601-4171-933b-05fa71192733\n",
       "userPrincipalName                                                               aaron.lim@nera.net\n",
       "userDisplayName                                                                          Aaron Lim\n",
       "userType                                                                                    member\n",
       "isAdmin                                                                                      False\n",
       "isSsprRegistered                                                                              True\n",
       "isSsprEnabled                                                                                 True\n",
       "isSsprCapable                                                                                 True\n",
       "isMfaRegistered                                                                               True\n",
       "isMfaCapable                                                                                  True\n",
       "isPasswordlessCapable                                                                         True\n",
       "methodsRegistered                                microsoftAuthenticatorPasswordless,mobilePhone...\n",
       "defaultMfaMethod                                                                       mobilePhone\n",
       "isSystemPreferredAuthenticationMethodEnabled                                                 False\n",
       "systemPreferredAuthenticationMethods                                                              \n",
       "userPreferredMethodForSecondaryAuthentication                                                  sms\n",
       "lastUpdatedDateTime                                                    2023-06-27T22:41:58.404179Z\n",
       "method_microsoftAuthenticatorPasswordless                                                     True\n",
       "method_mobilePhone                                                                            True\n",
       "method_microsoftAuthenticatorPush                                                             True\n",
       "method_softwareOneTimePasscode                                                                True\n",
       "method_windowsHelloForBusiness                                                               False\n",
       "method_email                                                                                 False\n",
       "Name: 0, dtype: object"
      ]
     },
     "execution_count": 4,
     "metadata": {},
     "output_type": "execute_result"
    }
   ],
   "source": [
    "au.iloc[0]"
   ]
  },
  {
   "cell_type": "code",
   "execution_count": 6,
   "metadata": {},
   "outputs": [
    {
     "data": {
      "text/plain": [
       "0                                                    []\n",
       "1     [{'@odata.type': '#microsoft.graph.servicePrin...\n",
       "2     [{'@odata.type': '#microsoft.graph.servicePrin...\n",
       "3     [{'@odata.type': '#microsoft.graph.user', 'id'...\n",
       "4     [{'@odata.type': '#microsoft.graph.user', 'id'...\n",
       "5                                                    []\n",
       "6                                                    []\n",
       "7     [{'@odata.type': '#microsoft.graph.user', 'id'...\n",
       "8     [{'@odata.type': '#microsoft.graph.user', 'id'...\n",
       "9     [{'@odata.type': '#microsoft.graph.user', 'id'...\n",
       "10    [{'@odata.type': '#microsoft.graph.user', 'id'...\n",
       "11                                                   []\n",
       "12                                                   []\n",
       "13    [{'@odata.type': '#microsoft.graph.user', 'id'...\n",
       "14                                                   []\n",
       "15    [{'@odata.type': '#microsoft.graph.servicePrin...\n",
       "16                                                   []\n",
       "17                                                   []\n",
       "18                                                   []\n",
       "19    [{'@odata.type': '#microsoft.graph.user', 'id'...\n",
       "20    [{'@odata.type': '#microsoft.graph.user', 'id'...\n",
       "21    [{'@odata.type': '#microsoft.graph.user', 'id'...\n",
       "22    [{'@odata.type': '#microsoft.graph.user', 'id'...\n",
       "23                                                   []\n",
       "Name: owners, dtype: object"
      ]
     },
     "execution_count": 6,
     "metadata": {},
     "output_type": "execute_result"
    }
   ],
   "source": [
    "\n"
   ]
  }
 ],
 "metadata": {
  "kernelspec": {
   "display_name": ".venv",
   "language": "python",
   "name": "python3"
  },
  "language_info": {
   "codemirror_mode": {
    "name": "ipython",
    "version": 3
   },
   "file_extension": ".py",
   "mimetype": "text/x-python",
   "name": "python",
   "nbconvert_exporter": "python",
   "pygments_lexer": "ipython3",
   "version": "3.10.10"
  },
  "orig_nbformat": 4
 },
 "nbformat": 4,
 "nbformat_minor": 2
}
